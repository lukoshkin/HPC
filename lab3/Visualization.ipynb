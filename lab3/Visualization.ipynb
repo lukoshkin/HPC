{
 "cells": [
  {
   "cell_type": "markdown",
   "metadata": {},
   "source": [
    "# Solving a Simple Heat Equation with CUDA"
   ]
  },
  {
   "cell_type": "markdown",
   "metadata": {},
   "source": [
    "Equation being solved $\\quad — \\quad u_t = \\frac{1}{4} (u_{xx} + u_{yy})$  \n",
    "The numerical scheme $\\quad — \\quad U_{ij}^{n + 1} = \n",
    "\\frac{1}{4}\\left(U_{i+1,j}^n + U_{i,j+1}^n + U_{i-1,j}^n + U_{i,j-1}^n\\right)$"
   ]
  },
  {
   "cell_type": "code",
   "execution_count": 4,
   "metadata": {},
   "outputs": [],
   "source": [
    "import numpy as np\n",
    "import matplotlib.pyplot as plt"
   ]
  },
  {
   "cell_type": "code",
   "execution_count": 25,
   "metadata": {},
   "outputs": [],
   "source": [
    "size = 128\n",
    "T = 200\n",
    "\n",
    "!sed -ri \"s/(int size = )[0-9]+/\\1{size}/\" laplacian.c\n",
    "!sed -ri \"s/(int T = )[0-9]+/\\1{T}/\" laplacian.c"
   ]
  },
  {
   "cell_type": "code",
   "execution_count": 26,
   "metadata": {},
   "outputs": [],
   "source": [
    "!g++ laplacian.c\n",
    "!./a.out"
   ]
  },
  {
   "cell_type": "code",
   "execution_count": 27,
   "metadata": {},
   "outputs": [],
   "source": [
    "data = np.fromfile(\"output.bin\", dtype=np.float32)"
   ]
  },
  {
   "cell_type": "code",
   "execution_count": 28,
   "metadata": {
    "scrolled": true
   },
   "outputs": [
    {
     "data": {
      "image/png": "[encoded data removed]",
      "text/plain": [
       "<Figure size 432x288 with 2 Axes>"
      ]
     },
     "metadata": {
      "needs_background": "light"
     },
     "output_type": "display_data"
    }
   ],
   "source": [
    "plt.imshow(data.reshape(size, size))\n",
    "plt.colorbar();"
   ]
  },
  {
   "cell_type": "markdown",
   "metadata": {},
   "source": [
    "---"
   ]
  },
  {
   "cell_type": "code",
   "execution_count": 29,
   "metadata": {},
   "outputs": [
    {
     "name": "stdout",
     "output_type": "stream",
     "text": [
      "output.bin                                    100%   64KB  51.6KB/s   00:01    \n"
     ]
    }
   ],
   "source": [
    "# Run on the server:\n",
    "# -------------\n",
    "# ssh gpu1\n",
    "# export PATH=/usr/local/cuda/bin:$PATH\n",
    "# cd HPC/lab3\n",
    "# nvcc laplacian_gpu.cu && ./a.out\"\n",
    "# =================================\n",
    "!scp Vladislav.Lukoshkin@10.30.17.12:HPC/lab3/output.bin ./output_remote.bin 2> /dev/null"
   ]
  },
  {
   "cell_type": "code",
   "execution_count": 30,
   "metadata": {},
   "outputs": [],
   "source": [
    "# Change the mesh sizes there, on server\n",
    "# T = 200\n",
    "# size = 128"
   ]
  },
  {
   "cell_type": "code",
   "execution_count": 31,
   "metadata": {},
   "outputs": [],
   "source": [
    "data = np.fromfile(\"output_remote.bin\", dtype=np.float32)"
   ]
  },
  {
   "cell_type": "code",
   "execution_count": 32,
   "metadata": {},
   "outputs": [
    {
     "data": {
      "image/png": "[encoded data removed]",
      "text/plain": [
       "<Figure size 432x288 with 2 Axes>"
      ]
     },
     "metadata": {
      "needs_background": "light"
     },
     "output_type": "display_data"
    }
   ],
   "source": [
    "plt.imshow(data.reshape(size, size))\n",
    "plt.colorbar();"
   ]
  },
  {
   "cell_type": "markdown",
   "metadata": {},
   "source": [
    "### Possible Improvements"
   ]
  },
  {
   "cell_type": "markdown",
   "metadata": {},
   "source": [
    "- Use shared memory  \n",
    "(instead of reading 4 times each element from global memory,   \n",
    "one can copy the entire layer from global memory to a buffer on shared memory)\n",
    "- Use space-filling curve  \n",
    "(decrease number of the repeated data transfers from cache/global memory to register)"
   ]
  },
  {
   "cell_type": "code",
   "execution_count": null,
   "metadata": {},
   "outputs": [],
   "source": []
  }
 ],
 "metadata": {
  "kernelspec": {
   "display_name": "Python 3",
   "language": "python",
   "name": "python3"
  },
  "language_info": {
   "codemirror_mode": {
    "name": "ipython",
    "version": 3
   },
   "file_extension": ".py",
   "mimetype": "text/x-python",
   "name": "python",
   "nbconvert_exporter": "python",
   "pygments_lexer": "ipython3",
   "version": "3.7.3"
  }
 },
 "nbformat": 4,
 "nbformat_minor": 2
}
