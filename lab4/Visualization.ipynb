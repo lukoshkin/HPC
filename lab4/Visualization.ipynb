{
 "cells": [
  {
   "cell_type": "code",
   "execution_count": 1,
   "metadata": {},
   "outputs": [],
   "source": [
    "import numpy as np\n",
    "import matplotlib.pyplot as plt"
   ]
  },
  {
   "cell_type": "markdown",
   "metadata": {},
   "source": [
    "# 1D Histogram with CUDA shared atomics"
   ]
  },
  {
   "cell_type": "markdown",
   "metadata": {},
   "source": [
    "On pardus:   \n",
    "```bash\n",
    "$ ssh gpu1     \n",
    "$ export PATH=/usr/local/cuda/bin:$PATH  \n",
    "Go to lab4 directory  \n",
    "$ nvcc histogram.cu    \n",
    "$ ./a.out\n",
    "```"
   ]
  },
  {
   "cell_type": "code",
   "execution_count": 5,
   "metadata": {},
   "outputs": [
    {
     "name": "stdout",
     "output_type": "stream",
     "text": [
      "output.bin                                    100%  128    25.7KB/s   00:00    \n"
     ]
    }
   ],
   "source": [
    "!scp pardus:HPC/lab4/output.bin ./histogram.bin 2> /dev/null"
   ]
  },
  {
   "cell_type": "code",
   "execution_count": 6,
   "metadata": {},
   "outputs": [],
   "source": [
    "hist = np.fromfile('histogram.bin', dtype='int32')"
   ]
  },
  {
   "cell_type": "code",
   "execution_count": 7,
   "metadata": {},
   "outputs": [
    {
     "data": {
      "image/png": "[encoded data removed]",
      "text/plain": [
       "<Figure size 432x288 with 1 Axes>"
      ]
     },
     "metadata": {
      "needs_background": "light"
     },
     "output_type": "display_data"
    }
   ],
   "source": [
    "x = np.arange(len(hist))\n",
    "plt.bar(x, hist)\n",
    "plt.title(\"Histogram\");"
   ]
  },
  {
   "cell_type": "markdown",
   "metadata": {},
   "source": [
    "Check that it sums up to the number of samples that were randomly generated"
   ]
  },
  {
   "cell_type": "code",
   "execution_count": 8,
   "metadata": {},
   "outputs": [
    {
     "data": {
      "text/plain": [
       "1.0"
      ]
     },
     "execution_count": 8,
     "metadata": {},
     "output_type": "execute_result"
    }
   ],
   "source": [
    "hist.sum() / 2 ** 20"
   ]
  },
  {
   "cell_type": "markdown",
   "metadata": {},
   "source": [
    "# Blelloch Scan with CUDA"
   ]
  },
  {
   "cell_type": "markdown",
   "metadata": {},
   "source": [
    "On pardus:   \n",
    "```bash\n",
    "$ ssh gpu1     \n",
    "$ export PATH=/usr/local/cuda/bin:$PATH  \n",
    "  Go to lab4 directory  \n",
    "$ nvcc scanBlelloch.cu    \n",
    "$ ./a.out\n",
    "```"
   ]
  },
  {
   "cell_type": "code",
   "execution_count": 13,
   "metadata": {},
   "outputs": [
    {
     "name": "stdout",
     "output_type": "stream",
     "text": [
      "output.bin                                    100% 4096KB   8.3MB/s   00:00    \n"
     ]
    }
   ],
   "source": [
    "!scp pardus:HPC/lab4/output.bin ./gauss_integral.bin 2> /dev/null"
   ]
  },
  {
   "cell_type": "code",
   "execution_count": 14,
   "metadata": {},
   "outputs": [],
   "source": [
    "y = (np.pi) ** -.5 * np.fromfile('gauss_integral.bin', np.float32)\n",
    "x = 2 * np.arange(len(y)) / len(y) - 2"
   ]
  },
  {
   "cell_type": "code",
   "execution_count": 15,
   "metadata": {},
   "outputs": [
    {
     "name": "stdout",
     "output_type": "stream",
     "text": [
      "number of discretization points: 1048576\n"
     ]
    }
   ],
   "source": [
    "print(f\"number of discretization points: {len(y)}\")"
   ]
  },
  {
   "cell_type": "code",
   "execution_count": 16,
   "metadata": {},
   "outputs": [
    {
     "data": {
      "image/png": "[encoded data removed]",
      "text/plain": [
       "<Figure size 432x288 with 1 Axes>"
      ]
     },
     "metadata": {
      "needs_background": "light"
     },
     "output_type": "display_data"
    }
   ],
   "source": [
    "plt.plot(x, y)\n",
    "plt.title(\"Gauss Distribution\");"
   ]
  },
  {
   "cell_type": "code",
   "execution_count": null,
   "metadata": {},
   "outputs": [],
   "source": []
  }
 ],
 "metadata": {
  "kernelspec": {
   "display_name": "Python 3",
   "language": "python",
   "name": "python3"
  },
  "language_info": {
   "codemirror_mode": {
    "name": "ipython",
    "version": 3
   },
   "file_extension": ".py",
   "mimetype": "text/x-python",
   "name": "python",
   "nbconvert_exporter": "python",
   "pygments_lexer": "ipython3",
   "version": "3.7.3"
  }
 },
 "nbformat": 4,
 "nbformat_minor": 2
}
