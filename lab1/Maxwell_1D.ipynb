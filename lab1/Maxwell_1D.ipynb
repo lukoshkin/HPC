{
 "cells": [
  {
   "cell_type": "markdown",
   "metadata": {},
   "source": [
    "1D Maxwell equations\n",
    "===========\n",
    "\n",
    "Maxwell's equations read (speed of light = 1):\n",
    "\n",
    "$$\n",
    "\\partial_t\\vec B = -\\mathrm{rot}\\vec E\\\\\n",
    "\\partial_t\\vec E = \\mathrm{rot}\\vec B\n",
    "$$\n",
    "\n",
    "Writing all the components we get for magnetic field:\n",
    "\n",
    "$$\n",
    "\\partial_t B_x = -\\left(\\partial_y E_z - \\partial_z E_y \\right)\\\\\n",
    "\\partial_t B_y = -\\left(\\partial_y E_x - \\partial_z E_z \\right)\\\\\n",
    "\\partial_t B_z = -\\left(\\partial_y E_y - \\partial_z E_x \\right)\\\\\n",
    "$$\n",
    "\n",
    "And for electric field:\n",
    "$$\n",
    "\\partial_t E_x = \\left(\\partial_y B_z - \\partial_z B_y \\right)\\\\\n",
    "\\partial_t E_y = \\left(\\partial_y B_x - \\partial_z B_z \\right)\\\\\n",
    "\\partial_t E_z = \\left(\\partial_y B_y - \\partial_z B_x \\right)\\\\\n",
    "$$\n",
    "\n",
    "Assume 1D geometry, i.e. everything depends only on $t$ and $x$ (infinitely large electromagnetic waves in $y$ and $z$ dimensions). Then we get:\n",
    "\n",
    "$$\n",
    "\\partial_t B_y = \\partial_x E_z\\\\\n",
    "\\partial_t B_z = -\\partial_x E_y\n",
    "$$\n",
    "\n",
    "and \n",
    "\n",
    "$$\n",
    "\\partial_t E_y= - \\partial_x B_z\\\\\n",
    "\\partial_t E_z= \\partial_x B_y\n",
    "$$\n",
    "\n",
    "One can see, that these 4 equations can be split into two parts (they are called polarizations of the wave): $E_y, B_z$ (p-polarization) and $E_z, B_y$ (s-polarization)\n",
    "\n",
    "We get two separate and completely independent sets of equations:\n",
    "\n",
    "1. P-polarization\n",
    "-----------------\n",
    "\n",
    "$$\n",
    "\\partial_t E_y= - \\partial_x B_z\\\\\n",
    "\\partial_t B_z = -\\partial_x E_y\n",
    "$$\n",
    "\n",
    "2. S-polarization\n",
    "-----------------\n",
    "\n",
    "$$\n",
    "\\partial_t E_z= \\partial_x B_y\\\\\n",
    "\\partial_t B_y = \\partial_x E_z\n",
    "$$\n"
   ]
  },
  {
   "cell_type": "code",
   "execution_count": null,
   "metadata": {},
   "outputs": [],
   "source": []
  },
  {
   "cell_type": "markdown",
   "metadata": {},
   "source": [
    "Task 1\n",
    "------\n",
    "\n",
    "Before proceeding with numerical solution of these equations (let us for simplicity and saving time only deal with p-polarization today) think of a numerical scheme how to solve equations. There are many numerical methods to do this, but can you without looking further in the text come up with one? \n",
    "\n",
    "Tip: if you understand what a fractional (1/2) time or spatial step means - you can use it."
   ]
  },
  {
   "cell_type": "markdown",
   "metadata": {},
   "source": [
    "---\n",
    "Without exploring on stability, convergence, approx. order and etc, I write the following scheme\n",
    "\\begin{align}\n",
    "    &\\frac{\\Delta x}{\\Delta t} (E_i^{n+1/2} - E_i^n) = - B_{i+1/2}^n + B_i^{n-1/2}\\\\\n",
    "    &\\frac{\\Delta x}{\\Delta t} (B_i^n - B_i^{n-1/2}) = - E_i^n + E_{i-1/2}^n\n",
    "\\end{align}"
   ]
  },
  {
   "cell_type": "code",
   "execution_count": null,
   "metadata": {},
   "outputs": [],
   "source": []
  },
  {
   "cell_type": "markdown",
   "metadata": {},
   "source": [
    "Numerical scheme\n",
    "----------------\n",
    "\n",
    "Let's look again at the equations for p-polarization:\n",
    "$$\n",
    "\\partial_t E_y= - \\partial_x B_z\\\\\n",
    "\\partial_t B_z = -\\partial_x E_y\n",
    "$$\n",
    "\n",
    "Lets sum equations and substract equations and use notation $F_+=E_y+B_z$ and $F_-=E_y-B_z$:\n",
    "\n",
    "$$\n",
    "\\left(\\partial_t + \\partial_x\\right)F_+ = 0\\\\\n",
    "\\left(\\partial_t - \\partial_x\\right)F_- = 0\n",
    "$$"
   ]
  },
  {
   "cell_type": "code",
   "execution_count": null,
   "metadata": {},
   "outputs": [],
   "source": []
  },
  {
   "cell_type": "markdown",
   "metadata": {},
   "source": [
    "Task 2\n",
    "------\n",
    "\n",
    "One of the new fields $F_+$ and $F_-$ corresponds to the wave going from left to right and one to the wave going from right to left. Which is which?"
   ]
  },
  {
   "cell_type": "markdown",
   "metadata": {},
   "source": [
    "**Answer:**  \n",
    "$F_+$ - from right to left  \n",
    "$F_-$ - from left to right"
   ]
  },
  {
   "cell_type": "code",
   "execution_count": null,
   "metadata": {},
   "outputs": [],
   "source": []
  },
  {
   "cell_type": "markdown",
   "metadata": {},
   "source": [
    "Task 3\n",
    "------\n",
    "\n",
    "Derive the numerical scheme (consider the time step equals to spatial step, i.e. $\\Delta t$ = $\\Delta x$):\n",
    "\n",
    "$$\n",
    "F_{+,i}^{n+1} = F_{+,i-1}^n\\\\\n",
    "F_{-,i}^{n+1} = F_{-,i+1}^n\n",
    "$$"
   ]
  },
  {
   "cell_type": "markdown",
   "metadata": {},
   "source": [
    "**Derivation**\n",
    "$$\n",
    "    \\frac{F_{+,i}^{n+1} - F_{+,i}^n}{dt} + \\frac{F_{+,i}^n - F_{+,i-1}^n}{dx} = 0\n",
    "$$\n",
    "\n",
    "Since, we have chosen $\\Delta t = \\Delta x$, we obtain 1st equation  \n",
    "In the same way, we get 2nd one"
   ]
  },
  {
   "cell_type": "code",
   "execution_count": null,
   "metadata": {},
   "outputs": [],
   "source": []
  },
  {
   "cell_type": "markdown",
   "metadata": {},
   "source": [
    "Task 4\n",
    "------\n",
    "\n",
    "Consider 1D computational domain of length $L=2\\pi \\cdot 40$ (you can vary the numbers later), consider only  $F_+$\n",
    "\n",
    "$$\n",
    "\\Delta t = \\Delta x = \\frac{2\\pi}{1000}\n",
    "$$\n",
    "\n",
    "Initially there are no fields in the computational domain.\n",
    "\n",
    "Boundary condition:\n",
    "\n",
    "$$\n",
    "F_+(x=0,t)=sin(t),\\quad \\mathrm{if}\\quad t<2\\pi\\cdot 10\\\\\n",
    "F_+(x=0,t)=0, \\mathrm{otherwise}\n",
    "$$\n",
    "\n",
    "Write a code (for example in Python for prototyping) that solves 1D Maxwell equations.\n"
   ]
  },
  {
   "cell_type": "code",
   "execution_count": 3,
   "metadata": {},
   "outputs": [],
   "source": [
    "import numpy as np"
   ]
  },
  {
   "cell_type": "code",
   "execution_count": 55,
   "metadata": {},
   "outputs": [
    {
     "name": "stdout",
     "output_type": "stream",
     "text": [
      "wave magnitude at x=0 in time moments from (-4,4):\n",
      "-4 -3 -2 -1 0 1 2 3 4\n",
      "\n",
      "fied values in the square area (x,t) in (0,4) x (0,4)\n",
      "4\t3\t2\t1\t0\n",
      "3\t2\t1\t0\t-1\n",
      "2\t1\t0\t-1\t-2\n",
      "1\t0\t-1\t-2\t-3\n",
      "0\t-1\t-2\t-3\t-4\n"
     ]
    }
   ],
   "source": [
    "# For the sake of simplicity and power of representativeness in python prototype \"values\" are chosen\n",
    "# as boundary condition values\n",
    "N = 5\n",
    "values = np.arange(-N+1,N)\n",
    "F = np.empty(N * N,dtype=int)\n",
    "print(\"wave magnitude at x=0 in time moments from (-4,4):\")\n",
    "print(*values)\n",
    "print()\n",
    "\n",
    "print(\"field values in the square area (x,t) in (0,4) x (0,4)\")\n",
    "for i in range(N):\n",
    "    for j in range(N):\n",
    "        F[j + N * i] = values[i - j + N - 1]\n",
    "\n",
    "for i in range(N,0,-1):\n",
    "    print(*F[(i-1) * N:i * N], sep='\\t')"
   ]
  },
  {
   "cell_type": "code",
   "execution_count": null,
   "metadata": {},
   "outputs": [],
   "source": []
  },
  {
   "cell_type": "markdown",
   "metadata": {},
   "source": [
    "Task 5\n",
    "------\n",
    "\n",
    "Write a code in C/C++ and parallelize it using OpenMP."
   ]
  },
  {
   "cell_type": "code",
   "execution_count": 56,
   "metadata": {},
   "outputs": [],
   "source": [
    "# written in a separate file also"
   ]
  },
  {
   "cell_type": "markdown",
   "metadata": {},
   "source": [
    "```cpp\n",
    "#include <cstdio>\n",
    "#include <cmath>\n",
    "#include <omp.h>\n",
    "#include <cstdlib>\n",
    "#define pi 3.141592\n",
    "\n",
    "\n",
    "int main(int argc, char **argv) {\n",
    "    int   mult = std::atoi(argv[1]);\n",
    "    float L = 8 * pi * mult;\n",
    "    int   N = std::atoi(argv[2]);\n",
    "    float dx = L / N;\n",
    "    int   bp = 2 * pi / dx * mult;\n",
    "\n",
    "// create an array for the solution\n",
    "    float * F = new float [N * N];\n",
    "\n",
    "// generate an array containing the boundary values\n",
    "    float * values = new float [2 * N - 1];\n",
    "\n",
    "    double t0 = omp_get_wtime();\n",
    "    #pragma omp parallel\n",
    "    {\n",
    "        #pragma omp for nowait\n",
    "        for (int i=0; i<N+bp; ++i) {\n",
    "            values[i] = std::sin((-N + 1 + i) * dx);\n",
    "        }\n",
    "        \n",
    "        #pragma omp for\n",
    "        for (int i=N+bp; i<2*N; ++i) {\n",
    "            values[i] = 0; \n",
    "        }\n",
    "    }\n",
    "    double t1 = omp_get_wtime();\n",
    "\n",
    "    printf(\"time spent on bc initialization : %fs\\n\", t1 - t0);\n",
    "\n",
    "// fill the solution array\n",
    "    #pragma omp parallel for collapse(2) \n",
    "    for (int i=0; i<N; ++i) {\n",
    "        for (int j=0; j<N; ++j) {\n",
    "            F[j + N * i] = values[i - j + N - 1];\n",
    "        }\n",
    "    } \n",
    "\n",
    "    printf(\"time spent on filling the sol. array : %.3fs\\n\", \n",
    "            omp_get_wtime() - t1);\n",
    "\n",
    "    FILE * fout = fopen(\"output.bin\", \"wb\");\n",
    "    fwrite(F, sizeof(float), N * N, fout);\n",
    "    fclose(fout);\n",
    "\n",
    "// deallocate memory\n",
    "    delete [] values;\n",
    "    delete [] F;\n",
    "}\n",
    "\n",
    "```"
   ]
  },
  {
   "cell_type": "markdown",
   "metadata": {},
   "source": [
    "**See visualization in the separate file**"
   ]
  },
  {
   "cell_type": "code",
   "execution_count": null,
   "metadata": {},
   "outputs": [],
   "source": []
  },
  {
   "cell_type": "markdown",
   "metadata": {},
   "source": [
    "# Conclusion"
   ]
  },
  {
   "cell_type": "markdown",
   "metadata": {},
   "source": [
    "With the use of OMP I have reduced the program runtime several times (7 ~ 15; 32 threads)"
   ]
  },
  {
   "cell_type": "code",
   "execution_count": null,
   "metadata": {},
   "outputs": [],
   "source": []
  }
 ],
 "metadata": {
  "kernelspec": {
   "display_name": "Python 3",
   "language": "python",
   "name": "python3"
  },
  "language_info": {
   "codemirror_mode": {
    "name": "ipython",
    "version": 3
   },
   "file_extension": ".py",
   "mimetype": "text/x-python",
   "name": "python",
   "nbconvert_exporter": "python",
   "pygments_lexer": "ipython3",
   "version": "3.7.3"
  }
 },
 "nbformat": 4,
 "nbformat_minor": 2
}
